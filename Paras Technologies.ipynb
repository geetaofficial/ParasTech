{
 "cells": [
  {
   "cell_type": "markdown",
   "id": "f1b06ca1",
   "metadata": {},
   "source": [
    "## 1st "
   ]
  },
  {
   "cell_type": "markdown",
   "id": "c15e7ecd",
   "metadata": {},
   "source": [
    "<pre>Time allotted for test:2 hrs\n",
    "1.Create a function high_sess that should compute the highest number of events per\n",
    "session of each user in the database by reading a comma-separated value input file\n",
    "of session data. The result should be returned from the function as a dictionary.\n",
    "The first column of each line in the input file is expected to contain the user’s\n",
    "name represented as a string. The second column is expected to contain an integer\n",
    "representing the events in a session. Here is an example input file:\n",
    "Tony,10\n",
    "Stark,12\n",
    "Black,25\n",
    "Your program should ignore a non-conforming line like this one.\n",
    "Stark,3\n",
    "Widow,6\n",
    "Widow,14\n",
    "The resulting return value for this file should be the following dictionary:\n",
    "{ 'Stark':12, 'Black':25, 'Tony':10, 'Widow':14 }\n",
    "</pre>"
   ]
  },
  {
   "cell_type": "code",
   "execution_count": 2,
   "id": "1558001a",
   "metadata": {},
   "outputs": [],
   "source": [
    "d = [\n",
    "    {\n",
    "        'Tony':10,\n",
    "        'Stark':12,\n",
    "        'Black':25,\n",
    "        'Widow':14,\n",
    "    \n",
    "    },\n",
    "        {\n",
    "        'Tony':15,\n",
    "        'Stark':22,\n",
    "        'Black':65,\n",
    "        'Widow':14,\n",
    "    \n",
    "    },\n",
    "        {\n",
    "        'Tony':50,\n",
    "        'Stark':42,\n",
    "        'Black':65,\n",
    "        'Widow':74,\n",
    "    \n",
    "    }\n",
    "]"
   ]
  },
  {
   "cell_type": "code",
   "execution_count": 4,
   "id": "a98e6f6a",
   "metadata": {},
   "outputs": [
    {
     "name": "stdout",
     "output_type": "stream",
     "text": [
      "{'Tony': 50, 'Stark': 42, 'Black': 65, 'Widow': 74}\n"
     ]
    }
   ],
   "source": [
    "res = {}\n",
    "for dd in d:\n",
    "    for key, val in dd.items():\n",
    "        if key in res:\n",
    "            res[key]=max(res[key], val)\n",
    "        else:\n",
    "            res[key]= val\n",
    "            \n",
    "print(res)"
   ]
  },
  {
   "attachments": {},
   "cell_type": "markdown",
   "id": "67247089",
   "metadata": {},
   "source": [
    "## 2nd Answer"
   ]
  },
  {
   "cell_type": "code",
   "execution_count": 5,
   "id": "83c92023",
   "metadata": {},
   "outputs": [
    {
     "name": "stdout",
     "output_type": "stream",
     "text": [
      "C\n",
      "D\n",
      "E\n"
     ]
    }
   ],
   "source": [
    "print('C')\n",
    "print('D')\n",
    "print('E')"
   ]
  },
  {
   "cell_type": "code",
   "execution_count": null,
   "id": "c5a540cd",
   "metadata": {},
   "outputs": [],
   "source": []
  }
 ],
 "metadata": {
  "kernelspec": {
   "display_name": "Python 3",
   "language": "python",
   "name": "python3"
  },
  "language_info": {
   "codemirror_mode": {
    "name": "ipython",
    "version": 3
   },
   "file_extension": ".py",
   "mimetype": "text/x-python",
   "name": "python",
   "nbconvert_exporter": "python",
   "pygments_lexer": "ipython3",
   "version": "3.9.5"
  }
 },
 "nbformat": 4,
 "nbformat_minor": 5
}
